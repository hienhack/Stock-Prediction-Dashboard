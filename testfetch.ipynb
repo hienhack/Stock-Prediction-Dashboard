{
 "cells": [
  {
   "cell_type": "code",
   "execution_count": 2,
   "metadata": {},
   "outputs": [
    {
     "name": "stdout",
     "output_type": "stream",
     "text": [
      "                      t               o               h               l  \\\n",
      "0   2024-07-15 14:45:00  62931.61000000  62994.04000000  62906.30000000   \n",
      "1   2024-07-15 14:50:00  62989.75000000  63090.50000000  62989.75000000   \n",
      "2   2024-07-15 14:55:00  63015.03000000  63205.41000000  63015.03000000   \n",
      "3   2024-07-15 15:00:00  63168.69000000  63257.93000000  63168.69000000   \n",
      "4   2024-07-15 15:05:00  63207.06000000  63215.30000000  62892.40000000   \n",
      "..                  ...             ...             ...             ...   \n",
      "195 2024-07-16 07:00:00  62933.16000000  63103.80000000  62814.44000000   \n",
      "196 2024-07-16 07:05:00  63132.08000000  63227.96000000  63110.59000000   \n",
      "197 2024-07-16 07:10:00  63241.12000000  63295.53000000  63174.70000000   \n",
      "198 2024-07-16 07:15:00  63183.90000000  63229.20000000  63129.70000000   \n",
      "199 2024-07-16 07:20:00  63037.78000000  63037.78000000  63037.78000000   \n",
      "\n",
      "                  c  \n",
      "0    62978.96000000  \n",
      "1    63057.31000000  \n",
      "2    63161.03000000  \n",
      "3    63257.93000000  \n",
      "4    63050.00000000  \n",
      "..              ...  \n",
      "195  63103.80000000  \n",
      "196  63186.12000000  \n",
      "197  63174.70000000  \n",
      "198  63131.90000000  \n",
      "199  63037.78000000  \n",
      "\n",
      "[200 rows x 5 columns]\n",
      "Model and scaler loaded from ./trained/BTCUSDT-XGBoost_Close_ROC\n",
      "features: ['Close', 'ROC']\n"
     ]
    },
    {
     "ename": "KeyError",
     "evalue": "\"['ROC'] not in index\"",
     "output_type": "error",
     "traceback": [
      "\u001b[1;31m---------------------------------------------------------------------------\u001b[0m",
      "\u001b[1;31mKeyError\u001b[0m                                  Traceback (most recent call last)",
      "Cell \u001b[1;32mIn[2], line 51\u001b[0m\n\u001b[0;32m     48\u001b[0m         \u001b[38;5;28;01mreturn\u001b[39;00m \u001b[38;5;28;01mNone\u001b[39;00m\n\u001b[0;32m     50\u001b[0m \u001b[38;5;66;03m# Example usage\u001b[39;00m\n\u001b[1;32m---> 51\u001b[0m data \u001b[38;5;241m=\u001b[39m \u001b[43mfetch_binance_data\u001b[49m\u001b[43m(\u001b[49m\u001b[43m)\u001b[49m\n",
      "Cell \u001b[1;32mIn[2], line 37\u001b[0m, in \u001b[0;36mfetch_binance_data\u001b[1;34m(symbol, interval, limit)\u001b[0m\n\u001b[0;32m     34\u001b[0m df\u001b[38;5;241m.\u001b[39mrename(columns\u001b[38;5;241m=\u001b[39m{\u001b[38;5;124m'\u001b[39m\u001b[38;5;124mh\u001b[39m\u001b[38;5;124m'\u001b[39m: \u001b[38;5;124m'\u001b[39m\u001b[38;5;124mHigh\u001b[39m\u001b[38;5;124m'\u001b[39m}, inplace\u001b[38;5;241m=\u001b[39m\u001b[38;5;28;01mTrue\u001b[39;00m)\n\u001b[0;32m     35\u001b[0m df\u001b[38;5;241m.\u001b[39mrename(columns\u001b[38;5;241m=\u001b[39m{\u001b[38;5;124m'\u001b[39m\u001b[38;5;124ml\u001b[39m\u001b[38;5;124m'\u001b[39m: \u001b[38;5;124m'\u001b[39m\u001b[38;5;124mLow\u001b[39m\u001b[38;5;124m'\u001b[39m}, inplace\u001b[38;5;241m=\u001b[39m\u001b[38;5;28;01mTrue\u001b[39;00m)\n\u001b[1;32m---> 37\u001b[0m predictions \u001b[38;5;241m=\u001b[39m \u001b[43mmodel\u001b[49m\u001b[38;5;241;43m.\u001b[39;49m\u001b[43mpredict\u001b[49m\u001b[43m(\u001b[49m\u001b[43mdf\u001b[49m\u001b[43m[\u001b[49m\u001b[43m[\u001b[49m\u001b[38;5;124;43m'\u001b[39;49m\u001b[38;5;124;43mDatetime\u001b[39;49m\u001b[38;5;124;43m'\u001b[39;49m\u001b[43m,\u001b[49m\u001b[38;5;124;43m'\u001b[39;49m\u001b[38;5;124;43mOpen\u001b[39;49m\u001b[38;5;124;43m'\u001b[39;49m\u001b[43m,\u001b[49m\u001b[38;5;124;43m'\u001b[39;49m\u001b[38;5;124;43mHigh\u001b[39;49m\u001b[38;5;124;43m'\u001b[39;49m\u001b[43m,\u001b[49m\u001b[43m \u001b[49m\u001b[38;5;124;43m'\u001b[39;49m\u001b[38;5;124;43mLow\u001b[39;49m\u001b[38;5;124;43m'\u001b[39;49m\u001b[43m,\u001b[49m\u001b[38;5;124;43m'\u001b[39;49m\u001b[38;5;124;43mClose\u001b[39;49m\u001b[38;5;124;43m'\u001b[39;49m\u001b[43m]\u001b[49m\u001b[43m]\u001b[49m\u001b[43m)\u001b[49m\n\u001b[0;32m     38\u001b[0m \u001b[38;5;28mprint\u001b[39m(\u001b[38;5;124mf\u001b[39m\u001b[38;5;124m'\u001b[39m\u001b[38;5;124m prediction: \u001b[39m\u001b[38;5;132;01m{\u001b[39;00mpredictions\u001b[38;5;132;01m}\u001b[39;00m\u001b[38;5;124m'\u001b[39m)\n\u001b[0;32m     39\u001b[0m \u001b[38;5;66;03m# Format predictions as required ([[t, o, h, l, c], [t, o, h, l, c], ...])\u001b[39;00m\n",
      "File \u001b[1;32mc:\\Users\\Admin\\OneDrive - VNU-HCMUS\\Nam4\\ModernTech\\Stock-Prediction-Dashboard\\model\\XgboostModel.py:66\u001b[0m, in \u001b[0;36mXGBoostModel.predict\u001b[1;34m(self, dataToPredict)\u001b[0m\n\u001b[0;32m     64\u001b[0m \u001b[38;5;28;01mdef\u001b[39;00m \u001b[38;5;21mpredict\u001b[39m(\u001b[38;5;28mself\u001b[39m, dataToPredict):\n\u001b[0;32m     65\u001b[0m     \u001b[38;5;28mprint\u001b[39m(\u001b[38;5;124mf\u001b[39m\u001b[38;5;124m'\u001b[39m\u001b[38;5;124mfeatures: \u001b[39m\u001b[38;5;132;01m{\u001b[39;00m\u001b[38;5;28mself\u001b[39m\u001b[38;5;241m.\u001b[39mfeatures\u001b[38;5;132;01m}\u001b[39;00m\u001b[38;5;124m'\u001b[39m)\n\u001b[1;32m---> 66\u001b[0m     dataset \u001b[38;5;241m=\u001b[39m dataToPredict\u001b[38;5;241m.\u001b[39mvalues\n\u001b[0;32m     67\u001b[0m     x_test \u001b[38;5;241m=\u001b[39m []\n\u001b[0;32m     68\u001b[0m     x_scaled_data \u001b[38;5;241m=\u001b[39m \u001b[38;5;28mself\u001b[39m\u001b[38;5;241m.\u001b[39mx_scaler\u001b[38;5;241m.\u001b[39mtransform(dataset)\n",
      "File \u001b[1;32mc:\\Users\\Admin\\OneDrive - VNU-HCMUS\\Nam4\\ModernTech\\Stock-Prediction-Dashboard\\.venv\\Lib\\site-packages\\pandas\\core\\frame.py:4108\u001b[0m, in \u001b[0;36mDataFrame.__getitem__\u001b[1;34m(self, key)\u001b[0m\n\u001b[0;32m   4106\u001b[0m     \u001b[38;5;28;01mif\u001b[39;00m is_iterator(key):\n\u001b[0;32m   4107\u001b[0m         key \u001b[38;5;241m=\u001b[39m \u001b[38;5;28mlist\u001b[39m(key)\n\u001b[1;32m-> 4108\u001b[0m     indexer \u001b[38;5;241m=\u001b[39m \u001b[38;5;28;43mself\u001b[39;49m\u001b[38;5;241;43m.\u001b[39;49m\u001b[43mcolumns\u001b[49m\u001b[38;5;241;43m.\u001b[39;49m\u001b[43m_get_indexer_strict\u001b[49m\u001b[43m(\u001b[49m\u001b[43mkey\u001b[49m\u001b[43m,\u001b[49m\u001b[43m \u001b[49m\u001b[38;5;124;43m\"\u001b[39;49m\u001b[38;5;124;43mcolumns\u001b[39;49m\u001b[38;5;124;43m\"\u001b[39;49m\u001b[43m)\u001b[49m[\u001b[38;5;241m1\u001b[39m]\n\u001b[0;32m   4110\u001b[0m \u001b[38;5;66;03m# take() does not accept boolean indexers\u001b[39;00m\n\u001b[0;32m   4111\u001b[0m \u001b[38;5;28;01mif\u001b[39;00m \u001b[38;5;28mgetattr\u001b[39m(indexer, \u001b[38;5;124m\"\u001b[39m\u001b[38;5;124mdtype\u001b[39m\u001b[38;5;124m\"\u001b[39m, \u001b[38;5;28;01mNone\u001b[39;00m) \u001b[38;5;241m==\u001b[39m \u001b[38;5;28mbool\u001b[39m:\n",
      "File \u001b[1;32mc:\\Users\\Admin\\OneDrive - VNU-HCMUS\\Nam4\\ModernTech\\Stock-Prediction-Dashboard\\.venv\\Lib\\site-packages\\pandas\\core\\indexes\\base.py:6200\u001b[0m, in \u001b[0;36mIndex._get_indexer_strict\u001b[1;34m(self, key, axis_name)\u001b[0m\n\u001b[0;32m   6197\u001b[0m \u001b[38;5;28;01melse\u001b[39;00m:\n\u001b[0;32m   6198\u001b[0m     keyarr, indexer, new_indexer \u001b[38;5;241m=\u001b[39m \u001b[38;5;28mself\u001b[39m\u001b[38;5;241m.\u001b[39m_reindex_non_unique(keyarr)\n\u001b[1;32m-> 6200\u001b[0m \u001b[38;5;28;43mself\u001b[39;49m\u001b[38;5;241;43m.\u001b[39;49m\u001b[43m_raise_if_missing\u001b[49m\u001b[43m(\u001b[49m\u001b[43mkeyarr\u001b[49m\u001b[43m,\u001b[49m\u001b[43m \u001b[49m\u001b[43mindexer\u001b[49m\u001b[43m,\u001b[49m\u001b[43m \u001b[49m\u001b[43maxis_name\u001b[49m\u001b[43m)\u001b[49m\n\u001b[0;32m   6202\u001b[0m keyarr \u001b[38;5;241m=\u001b[39m \u001b[38;5;28mself\u001b[39m\u001b[38;5;241m.\u001b[39mtake(indexer)\n\u001b[0;32m   6203\u001b[0m \u001b[38;5;28;01mif\u001b[39;00m \u001b[38;5;28misinstance\u001b[39m(key, Index):\n\u001b[0;32m   6204\u001b[0m     \u001b[38;5;66;03m# GH 42790 - Preserve name from an Index\u001b[39;00m\n",
      "File \u001b[1;32mc:\\Users\\Admin\\OneDrive - VNU-HCMUS\\Nam4\\ModernTech\\Stock-Prediction-Dashboard\\.venv\\Lib\\site-packages\\pandas\\core\\indexes\\base.py:6252\u001b[0m, in \u001b[0;36mIndex._raise_if_missing\u001b[1;34m(self, key, indexer, axis_name)\u001b[0m\n\u001b[0;32m   6249\u001b[0m     \u001b[38;5;28;01mraise\u001b[39;00m \u001b[38;5;167;01mKeyError\u001b[39;00m(\u001b[38;5;124mf\u001b[39m\u001b[38;5;124m\"\u001b[39m\u001b[38;5;124mNone of [\u001b[39m\u001b[38;5;132;01m{\u001b[39;00mkey\u001b[38;5;132;01m}\u001b[39;00m\u001b[38;5;124m] are in the [\u001b[39m\u001b[38;5;132;01m{\u001b[39;00maxis_name\u001b[38;5;132;01m}\u001b[39;00m\u001b[38;5;124m]\u001b[39m\u001b[38;5;124m\"\u001b[39m)\n\u001b[0;32m   6251\u001b[0m not_found \u001b[38;5;241m=\u001b[39m \u001b[38;5;28mlist\u001b[39m(ensure_index(key)[missing_mask\u001b[38;5;241m.\u001b[39mnonzero()[\u001b[38;5;241m0\u001b[39m]]\u001b[38;5;241m.\u001b[39munique())\n\u001b[1;32m-> 6252\u001b[0m \u001b[38;5;28;01mraise\u001b[39;00m \u001b[38;5;167;01mKeyError\u001b[39;00m(\u001b[38;5;124mf\u001b[39m\u001b[38;5;124m\"\u001b[39m\u001b[38;5;132;01m{\u001b[39;00mnot_found\u001b[38;5;132;01m}\u001b[39;00m\u001b[38;5;124m not in index\u001b[39m\u001b[38;5;124m\"\u001b[39m)\n",
      "\u001b[1;31mKeyError\u001b[0m: \"['ROC'] not in index\""
     ]
    }
   ],
   "source": [
    "from flask import jsonify\n",
    "import requests\n",
    "import datetime\n",
    "import pandas as pd\n",
    "from model.LSTMModel import LSTMModel\n",
    "from model.RNNModel import RNNModel\n",
    "from model.XgboostModel import XGBoostModel\n",
    "\n",
    "def fetch_binance_data(symbol=\"BTCUSDT\", interval=\"5m\", limit=200):\n",
    "    url = f\"https://api.binance.us/api/v3/klines\"\n",
    "    params = {\n",
    "        \"symbol\": symbol,\n",
    "        \"interval\": interval,\n",
    "        \"limit\": limit\n",
    "    }\n",
    "    response = requests.get(url, params=params)\n",
    "    if response.status_code == 200:\n",
    "        # get last row of data\n",
    "        data = response.json()\n",
    "        df = pd.DataFrame(data, columns=['t', 'o', 'h', 'l', 'c', 'v', 'T', 'q', 'n', 'V', 'Q', 'B'])\n",
    "        df = df[['t', 'o', 'h', 'l', 'c']]\n",
    "        df['t'] = pd.to_datetime(df['t'], unit='ms')\n",
    "        print(df)\n",
    "        \n",
    "        # Load model\n",
    "        model = XGBoostModel(symbol)\n",
    "        model.load('./trained/BTCUSDT-XGBoost_Close')\n",
    "\n",
    "        if model:\n",
    "            # Ensure column names match the expected names used in the model prediction\n",
    "            df.rename(columns={'c': 'Close'}, inplace=True)\n",
    "            df.rename(columns={'t': 'Datetime'}, inplace=True)\n",
    "            df.rename(columns={'o': 'Open'}, inplace=True)\n",
    "            df.rename(columns={'h': 'High'}, inplace=True)\n",
    "            df.rename(columns={'l': 'Low'}, inplace=True)\n",
    "            \n",
    "            predictions = model.predict(df[['Datetime','Open','High', 'Low','Close']])\n",
    "            print(f' prediction: {predictions}')\n",
    "            # Format predictions as required ([[t, o, h, l, c], [t, o, h, l, c], ...])\n",
    "            prediction_list = []\n",
    "            for prediction in predictions:\n",
    "                prediction_list.append([ prediction['Open'], prediction['High'], prediction['Low'], prediction['Close']])\n",
    "\n",
    "            print(f' Prediction list: {prediction_list}')\n",
    "           \n",
    "    else:\n",
    "        print(f\"Failed to fetch data: {response.status_code}\")\n",
    "        return None\n",
    "\n",
    "# Example usage\n",
    "data = fetch_binance_data()"
   ]
  }
 ],
 "metadata": {
  "kernelspec": {
   "display_name": ".venv",
   "language": "python",
   "name": "python3"
  },
  "language_info": {
   "codemirror_mode": {
    "name": "ipython",
    "version": 3
   },
   "file_extension": ".py",
   "mimetype": "text/x-python",
   "name": "python",
   "nbconvert_exporter": "python",
   "pygments_lexer": "ipython3",
   "version": "3.12.4"
  }
 },
 "nbformat": 4,
 "nbformat_minor": 2
}
